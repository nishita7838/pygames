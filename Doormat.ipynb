{
 "cells": [
  {
   "cell_type": "code",
   "execution_count": 35,
   "metadata": {},
   "outputs": [
    {
     "name": "stdout",
     "output_type": "stream",
     "text": [
      "9\n"
     ]
    }
   ],
   "source": [
    "import math\n",
    "n=int(input())\n",
    "m=3*n"
   ]
  },
  {
   "cell_type": "code",
   "execution_count": 39,
   "metadata": {},
   "outputs": [
    {
     "name": "stdout",
     "output_type": "stream",
     "text": [
      "------------.|.------------\n",
      "\n",
      "---------.|..|..|.---------\n",
      "\n",
      "------.|..|..|..|..|.------\n",
      "\n",
      "---.|..|..|..|..|..|..|.---\n",
      "\n",
      "----------WELCOME----------\n",
      "\n",
      "---.|..|..|..|..|..|..|.---\n",
      "\n",
      "------.|..|..|..|..|.------\n",
      "\n",
      "---------.|..|..|.---------\n",
      "\n",
      "------------.|.------------\n",
      "\n"
     ]
    }
   ],
   "source": [
    "\n",
    "for i in range(0,n-2,2):\n",
    "    x=math.floor(i/2)\n",
    "    for j in range(i+x,math.floor((m-3)/2)):\n",
    "        print(\"-\",end=\"\")\n",
    "    for k in range(0,i+1):\n",
    "        print(\".|.\",end=\"\")\n",
    "        x=math.floor(i/2)\n",
    "    for l in range(i+x,math.floor((m-3)/2)):\n",
    "        print(\"-\",end=\"\")\n",
    "    print(\"\\n\")  \n",
    "for p in range(0,math.floor((m-3)/2)-2):\n",
    "    print(\"-\",end=\"\")\n",
    "print(\"WELCOME\",end=\"\")\n",
    "for p in range(0,math.floor((m-3)/2)-2):\n",
    "    print(\"-\",end=\"\")\n",
    "print(\"\\n\")\n",
    "for i in range(n-2,0,-2):\n",
    "    x=math.floor(i/2)\n",
    "    for j in range(math.floor((m-3)/2),i+x-1,-1):\n",
    "        print(\"-\",end=\"\")\n",
    "    for k in range(i+1,0+1,-1):\n",
    "        print(\".|.\",end=\"\")\n",
    "    x=math.floor(i/2)\n",
    "    for j in range(math.floor((m-3)/2),i+x-1,-1):\n",
    "        print(\"-\",end=\"\")\n",
    "    print(\"\\n\")\n",
    "               "
   ]
  },
  {
   "cell_type": "code",
   "execution_count": 31,
   "metadata": {},
   "outputs": [
    {
     "name": "stdout",
     "output_type": "stream",
     "text": [
      "-\n",
      "-\n",
      "-\n",
      "-\n"
     ]
    }
   ],
   "source": [
    "for i in range(5,1,-1):\n",
    "    print(\"-\")"
   ]
  },
  {
   "cell_type": "code",
   "execution_count": null,
   "metadata": {},
   "outputs": [],
   "source": []
  }
 ],
 "metadata": {
  "kernelspec": {
   "display_name": "Python 3",
   "language": "python",
   "name": "python3"
  },
  "language_info": {
   "codemirror_mode": {
    "name": "ipython",
    "version": 3
   },
   "file_extension": ".py",
   "mimetype": "text/x-python",
   "name": "python",
   "nbconvert_exporter": "python",
   "pygments_lexer": "ipython3",
   "version": "3.7.3"
  }
 },
 "nbformat": 4,
 "nbformat_minor": 2
}
